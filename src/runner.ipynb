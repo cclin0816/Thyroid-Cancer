{
 "cells": [
  {
   "cell_type": "code",
   "execution_count": null,
   "metadata": {},
   "outputs": [],
   "source": [
    "import utils\n",
    "from pathlib import Path\n",
    "import dataset\n",
    "\n",
    "ROOT_DIR = Path('../')\n",
    "utils.set_log_lvl('WARN')\n",
    "\n",
    "labels = utils.load_json(ROOT_DIR / 'dataset' /\n",
    "                         'Thyroid_AI_data_20220103.json')\n",
    "mass_info = dataset.get_mass_info(labels)\n",
    "mass_info.to_csv(ROOT_DIR / 'output' / 'mass_info.csv')\n",
    "\n",
    "mass_info.info()"
   ]
  },
  {
   "cell_type": "code",
   "execution_count": null,
   "metadata": {},
   "outputs": [],
   "source": [
    "from pathlib import Path\n",
    "import dataset\n",
    "\n",
    "ROOT_DIR = Path('../')\n",
    "utils.set_log_lvl('WARN')\n",
    "\n",
    "path_list = [ndpi for ndpi in (ROOT_DIR / 'dataset' / 'ndpi').glob('*.ndpi')]\n",
    "slide_info = dataset.get_slide_info(path_list)\n",
    "slide_info.to_csv(ROOT_DIR / 'output' / 'slide_info.csv')\n",
    "\n",
    "slide_info.info()"
   ]
  },
  {
   "cell_type": "code",
   "execution_count": null,
   "metadata": {},
   "outputs": [],
   "source": [
    "import openslide\n",
    "import cv2\n",
    "import numpy as np\n",
    "from PIL import Image\n",
    "import pandas as pd\n",
    "from pathlib import Path\n",
    "import image\n",
    "\n",
    "ROOT_DIR = Path('../')\n",
    "mass_info = pd.read_csv(ROOT_DIR / 'output' / 'mass_info.csv', index_col=0)\n",
    "slide_info = pd.read_csv(ROOT_DIR / 'output' / 'slide_info.csv', index_col=0)\n",
    "\n",
    "images = []\n",
    "\n",
    "for _, row in mass_info.sample(64, random_state=666 ** 3).iterrows():\n",
    "    slide = openslide.open_slide(\n",
    "        ROOT_DIR / 'dataset' / 'ndpi' / (row['slide'] + '.ndpi'))\n",
    "    img = slide.read_region(\n",
    "        (row['x_min'], row['y_min']), 0, (row['width'], row['height']))\n",
    "    img = image.suppress_bg(img, slide_info.loc[row['slide']])\n",
    "\n",
    "    # gray = cv2.cvtColor(np.array(img), cv2.COLOR_RGB2GRAY)\n",
    "    gray = np.array(img)[..., 1]\n",
    "\n",
    "    # _, binary = cv2.threshold(gray, 145, 255, cv2.THRESH_BINARY)\n",
    "    # contours, _ = cv2.findContours(\n",
    "    #     binary, cv2.RETR_LIST, cv2.CHAIN_APPROX_SIMPLE)\n",
    "    # contours = list(filter(lambda x: len(x) >= 5 and len(x) <= 75, contours))\n",
    "    # img_data = np.array(img)\n",
    "    # cv2.drawContours(img_data, contours, -1, (255, 0, 0), 2)\n",
    "\n",
    "    # display(Image.fromarray(img_data))\n",
    "\n",
    "    binary = cv2.adaptiveThreshold(\n",
    "        gray, 255, cv2.ADAPTIVE_THRESH_MEAN_C, cv2.THRESH_BINARY, 35, 0.5)\n",
    "    contours, _ = cv2.findContours(\n",
    "        binary, cv2.RETR_LIST, cv2.CHAIN_APPROX_SIMPLE)\n",
    "    # contours = list(filter(lambda x: len(x) >= 20 and len(x) <= 200, contours))\n",
    "    img_data = np.array(img)\n",
    "    img_data = cv2.cvtColor(img_data, cv2.COLOR_RGB2BGR)\n",
    "    for idx in range(len(contours)):\n",
    "        r_intensity = min(len(contours[idx]) * 2, 255)\n",
    "        g_intensity = 255 - min(cv2.contourArea(contours[idx]) * 15, 255)\n",
    "        cv2.drawContours(img_data, contours, idx,\n",
    "                         (30, g_intensity, r_intensity), 1)\n",
    "    img_data = cv2.cvtColor(img_data, cv2.COLOR_BGR2RGB)\n",
    "    # display(Image.fromarray(img_data))\n",
    "    images.append(Image.fromarray(img_data))\n",
    "\n",
    "display(image.grid_composite(images, 5, 300, 300))"
   ]
  }
 ],
 "metadata": {
  "kernelspec": {
   "display_name": "venv",
   "language": "python",
   "name": "python3"
  },
  "language_info": {
   "codemirror_mode": {
    "name": "ipython",
    "version": 3
   },
   "file_extension": ".py",
   "mimetype": "text/x-python",
   "name": "python",
   "nbconvert_exporter": "python",
   "pygments_lexer": "ipython3",
   "version": "3.11.8"
  }
 },
 "nbformat": 4,
 "nbformat_minor": 2
}
