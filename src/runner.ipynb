{
 "cells": [
  {
   "cell_type": "code",
   "execution_count": null,
   "metadata": {},
   "outputs": [],
   "source": [
    "import utils\n",
    "from pathlib import Path\n",
    "import fix_dataset\n",
    "\n",
    "utils.log_lvl = 2\n",
    "ROOT_DIR = Path('../')\n",
    "\n",
    "ndpi_names = [ndpi.stem for ndpi in (\n",
    "    ROOT_DIR / 'dataset' / 'ndpi').glob('*.ndpi')]\n",
    "ndpi_names = set(ndpi_names)\n",
    "labels = utils.load_json(ROOT_DIR / 'dataset' /\n",
    "                         'Thyroid_AI_data_20220103.json')\n",
    "labels = fix_dataset.fix_labels(labels, ndpi_names)\n",
    "labels.to_csv(ROOT_DIR / 'output' / 'mass.csv')\n",
    "\n",
    "labels.info()"
   ]
  },
  {
   "cell_type": "code",
   "execution_count": null,
   "metadata": {},
   "outputs": [],
   "source": [
    "import openslide\n",
    "from pathlib import Path\n",
    "\n",
    "ROOT_DIR = Path('../')\n",
    "\n",
    "for _, row in labels.sample(16, random_state=666).iterrows():\n",
    "    slide = openslide.open_slide(\n",
    "        ROOT_DIR / 'dataset' / 'ndpi' / (row['slide'] + '.ndpi'))\n",
    "    img = slide.read_region(\n",
    "        (row['x_min'], row['y_min']), 0, (row['width'], row['height']))\n",
    "    img.thumbnail((256, 256))\n",
    "    display(img)"
   ]
  }
 ],
 "metadata": {
  "kernelspec": {
   "display_name": "venv",
   "language": "python",
   "name": "python3"
  },
  "language_info": {
   "codemirror_mode": {
    "name": "ipython",
    "version": 3
   },
   "file_extension": ".py",
   "mimetype": "text/x-python",
   "name": "python",
   "nbconvert_exporter": "python",
   "pygments_lexer": "ipython3",
   "version": "3.11.6"
  }
 },
 "nbformat": 4,
 "nbformat_minor": 2
}
